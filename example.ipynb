{
 "cells": [
  {
   "cell_type": "code",
   "execution_count": 2,
   "metadata": {
    "execution": {
     "iopub.execute_input": "2024-02-02T22:41:07.211578Z",
     "iopub.status.busy": "2024-02-02T22:41:07.211322Z",
     "iopub.status.idle": "2024-02-02T22:41:08.793036Z",
     "shell.execute_reply": "2024-02-02T22:41:08.792522Z",
     "shell.execute_reply.started": "2024-02-02T22:41:07.211559Z"
    }
   },
   "outputs": [],
   "source": [
    "from gpt2 import GPT2\n",
    "import torch"
   ]
  },
  {
   "cell_type": "markdown",
   "metadata": {},
   "source": [
    "### Training"
   ]
  },
  {
   "cell_type": "code",
   "execution_count": 3,
   "metadata": {
    "execution": {
     "iopub.execute_input": "2024-02-02T22:41:09.897358Z",
     "iopub.status.busy": "2024-02-02T22:41:09.896318Z",
     "iopub.status.idle": "2024-02-02T22:41:11.508894Z",
     "shell.execute_reply": "2024-02-02T22:41:11.508282Z",
     "shell.execute_reply.started": "2024-02-02T22:41:09.897326Z"
    }
   },
   "outputs": [],
   "source": [
    "gpt = GPT2.build(data=\"./data/shakespeare/input.txt\")"
   ]
  },
  {
   "cell_type": "code",
   "execution_count": 9,
   "metadata": {
    "execution": {
     "iopub.execute_input": "2024-02-02T23:38:30.876480Z",
     "iopub.status.busy": "2024-02-02T23:38:30.875727Z",
     "iopub.status.idle": "2024-02-03T00:00:23.669308Z",
     "shell.execute_reply": "2024-02-03T00:00:23.668477Z",
     "shell.execute_reply.started": "2024-02-02T23:38:30.876448Z"
    }
   },
   "outputs": [
    {
     "name": "stderr",
     "output_type": "stream",
     "text": [
      "GPU available: True (cuda), used: True\n",
      "TPU available: False, using: 0 TPU cores\n",
      "IPU available: False, using: 0 IPUs\n",
      "HPU available: False, using: 0 HPUs\n",
      "LOCAL_RANK: 0 - CUDA_VISIBLE_DEVICES: [0]\n",
      "\n",
      "  | Name  | Type        | Params\n",
      "--------------------------------------\n",
      "0 | model | Transformer | 163 M \n",
      "--------------------------------------\n",
      "163 M     Trainable params\n",
      "0         Non-trainable params\n",
      "163 M     Total params\n",
      "652.149   Total estimated model params size (MB)\n"
     ]
    },
    {
     "name": "stdout",
     "output_type": "stream",
     "text": [
      "337920 this has a different length: 114, padding\n"
     ]
    },
    {
     "data": {
      "application/vnd.jupyter.widget-view+json": {
       "model_id": "261d537801574fa98e4a6bff0bc1c4c5",
       "version_major": 2,
       "version_minor": 0
      },
      "text/plain": [
       "Sanity Checking: |          | 0/? [00:00<?, ?it/s]"
      ]
     },
     "metadata": {},
     "output_type": "display_data"
    },
    {
     "data": {
      "application/vnd.jupyter.widget-view+json": {
       "model_id": "263771750a7145bebe14299a2634a284",
       "version_major": 2,
       "version_minor": 0
      },
      "text/plain": [
       "Training: |          | 0/? [00:00<?, ?it/s]"
      ]
     },
     "metadata": {},
     "output_type": "display_data"
    },
    {
     "data": {
      "application/vnd.jupyter.widget-view+json": {
       "model_id": "0faf64e267dd4258905bb53a94c754bf",
       "version_major": 2,
       "version_minor": 0
      },
      "text/plain": [
       "Validation: |          | 0/? [00:00<?, ?it/s]"
      ]
     },
     "metadata": {},
     "output_type": "display_data"
    },
    {
     "data": {
      "application/vnd.jupyter.widget-view+json": {
       "model_id": "9f0da442c06043448c3da726c990a061",
       "version_major": 2,
       "version_minor": 0
      },
      "text/plain": [
       "Validation: |          | 0/? [00:00<?, ?it/s]"
      ]
     },
     "metadata": {},
     "output_type": "display_data"
    },
    {
     "data": {
      "application/vnd.jupyter.widget-view+json": {
       "model_id": "7907fae3a06c4acf894e0757c0654236",
       "version_major": 2,
       "version_minor": 0
      },
      "text/plain": [
       "Validation: |          | 0/? [00:00<?, ?it/s]"
      ]
     },
     "metadata": {},
     "output_type": "display_data"
    },
    {
     "data": {
      "application/vnd.jupyter.widget-view+json": {
       "model_id": "d279902276b6455f991faccf7909f5a4",
       "version_major": 2,
       "version_minor": 0
      },
      "text/plain": [
       "Validation: |          | 0/? [00:00<?, ?it/s]"
      ]
     },
     "metadata": {},
     "output_type": "display_data"
    },
    {
     "data": {
      "application/vnd.jupyter.widget-view+json": {
       "model_id": "679a5b4181794b0f9a437c98da233faf",
       "version_major": 2,
       "version_minor": 0
      },
      "text/plain": [
       "Validation: |          | 0/? [00:00<?, ?it/s]"
      ]
     },
     "metadata": {},
     "output_type": "display_data"
    },
    {
     "data": {
      "application/vnd.jupyter.widget-view+json": {
       "model_id": "d1c620f44735448e849737fa5c783daf",
       "version_major": 2,
       "version_minor": 0
      },
      "text/plain": [
       "Validation: |          | 0/? [00:00<?, ?it/s]"
      ]
     },
     "metadata": {},
     "output_type": "display_data"
    },
    {
     "data": {
      "application/vnd.jupyter.widget-view+json": {
       "model_id": "ae0d8972e9d54fd281126a34f1c8a97a",
       "version_major": 2,
       "version_minor": 0
      },
      "text/plain": [
       "Validation: |          | 0/? [00:00<?, ?it/s]"
      ]
     },
     "metadata": {},
     "output_type": "display_data"
    },
    {
     "data": {
      "application/vnd.jupyter.widget-view+json": {
       "model_id": "f9f328710717415bbd3631ad3785023e",
       "version_major": 2,
       "version_minor": 0
      },
      "text/plain": [
       "Validation: |          | 0/? [00:00<?, ?it/s]"
      ]
     },
     "metadata": {},
     "output_type": "display_data"
    },
    {
     "data": {
      "application/vnd.jupyter.widget-view+json": {
       "model_id": "2d01d7a90f96418e9eaf69ce3c1252c4",
       "version_major": 2,
       "version_minor": 0
      },
      "text/plain": [
       "Validation: |          | 0/? [00:00<?, ?it/s]"
      ]
     },
     "metadata": {},
     "output_type": "display_data"
    },
    {
     "data": {
      "application/vnd.jupyter.widget-view+json": {
       "model_id": "d5f7cef22b434cd3b857c1f5a95bc25d",
       "version_major": 2,
       "version_minor": 0
      },
      "text/plain": [
       "Validation: |          | 0/? [00:00<?, ?it/s]"
      ]
     },
     "metadata": {},
     "output_type": "display_data"
    },
    {
     "data": {
      "application/vnd.jupyter.widget-view+json": {
       "model_id": "a7503978205f43d998ccd84ba45baca0",
       "version_major": 2,
       "version_minor": 0
      },
      "text/plain": [
       "Validation: |          | 0/? [00:00<?, ?it/s]"
      ]
     },
     "metadata": {},
     "output_type": "display_data"
    },
    {
     "data": {
      "application/vnd.jupyter.widget-view+json": {
       "model_id": "e00d204aaf7542c3a8e0b3fb7025370a",
       "version_major": 2,
       "version_minor": 0
      },
      "text/plain": [
       "Validation: |          | 0/? [00:00<?, ?it/s]"
      ]
     },
     "metadata": {},
     "output_type": "display_data"
    },
    {
     "data": {
      "application/vnd.jupyter.widget-view+json": {
       "model_id": "57b869bdac9949c581b90fa7681595d9",
       "version_major": 2,
       "version_minor": 0
      },
      "text/plain": [
       "Validation: |          | 0/? [00:00<?, ?it/s]"
      ]
     },
     "metadata": {},
     "output_type": "display_data"
    },
    {
     "data": {
      "application/vnd.jupyter.widget-view+json": {
       "model_id": "5670bc4d79374b2a861e0fa297c0ce53",
       "version_major": 2,
       "version_minor": 0
      },
      "text/plain": [
       "Validation: |          | 0/? [00:00<?, ?it/s]"
      ]
     },
     "metadata": {},
     "output_type": "display_data"
    },
    {
     "data": {
      "application/vnd.jupyter.widget-view+json": {
       "model_id": "5a4aa0c11c1847eaa4b32150103b8c41",
       "version_major": 2,
       "version_minor": 0
      },
      "text/plain": [
       "Validation: |          | 0/? [00:00<?, ?it/s]"
      ]
     },
     "metadata": {},
     "output_type": "display_data"
    },
    {
     "data": {
      "application/vnd.jupyter.widget-view+json": {
       "model_id": "8d4448337ae34d0c9d3a0f031e6fc7be",
       "version_major": 2,
       "version_minor": 0
      },
      "text/plain": [
       "Validation: |          | 0/? [00:00<?, ?it/s]"
      ]
     },
     "metadata": {},
     "output_type": "display_data"
    },
    {
     "data": {
      "application/vnd.jupyter.widget-view+json": {
       "model_id": "342a027be81b4b478af50a06903f3cff",
       "version_major": 2,
       "version_minor": 0
      },
      "text/plain": [
       "Validation: |          | 0/? [00:00<?, ?it/s]"
      ]
     },
     "metadata": {},
     "output_type": "display_data"
    },
    {
     "data": {
      "application/vnd.jupyter.widget-view+json": {
       "model_id": "fa74132388414e62868624518ddbcab0",
       "version_major": 2,
       "version_minor": 0
      },
      "text/plain": [
       "Validation: |          | 0/? [00:00<?, ?it/s]"
      ]
     },
     "metadata": {},
     "output_type": "display_data"
    },
    {
     "data": {
      "application/vnd.jupyter.widget-view+json": {
       "model_id": "81fca16ca9e740009e7822ab363ae7dd",
       "version_major": 2,
       "version_minor": 0
      },
      "text/plain": [
       "Validation: |          | 0/? [00:00<?, ?it/s]"
      ]
     },
     "metadata": {},
     "output_type": "display_data"
    },
    {
     "data": {
      "application/vnd.jupyter.widget-view+json": {
       "model_id": "b50664b1bcd3413da0cb024fa3d0145a",
       "version_major": 2,
       "version_minor": 0
      },
      "text/plain": [
       "Validation: |          | 0/? [00:00<?, ?it/s]"
      ]
     },
     "metadata": {},
     "output_type": "display_data"
    },
    {
     "data": {
      "application/vnd.jupyter.widget-view+json": {
       "model_id": "290b296d8f2c4c729e56ef9c3f6d33a5",
       "version_major": 2,
       "version_minor": 0
      },
      "text/plain": [
       "Validation: |          | 0/? [00:00<?, ?it/s]"
      ]
     },
     "metadata": {},
     "output_type": "display_data"
    },
    {
     "data": {
      "application/vnd.jupyter.widget-view+json": {
       "model_id": "a485b9a920ef43aaac299b0b0f7e4153",
       "version_major": 2,
       "version_minor": 0
      },
      "text/plain": [
       "Validation: |          | 0/? [00:00<?, ?it/s]"
      ]
     },
     "metadata": {},
     "output_type": "display_data"
    },
    {
     "data": {
      "application/vnd.jupyter.widget-view+json": {
       "model_id": "d35a7693a0094c5e94e729b80f3b9360",
       "version_major": 2,
       "version_minor": 0
      },
      "text/plain": [
       "Validation: |          | 0/? [00:00<?, ?it/s]"
      ]
     },
     "metadata": {},
     "output_type": "display_data"
    },
    {
     "data": {
      "application/vnd.jupyter.widget-view+json": {
       "model_id": "b2423094f16c4adc94e25c4ff87734a0",
       "version_major": 2,
       "version_minor": 0
      },
      "text/plain": [
       "Validation: |          | 0/? [00:00<?, ?it/s]"
      ]
     },
     "metadata": {},
     "output_type": "display_data"
    },
    {
     "data": {
      "application/vnd.jupyter.widget-view+json": {
       "model_id": "9c89e13c2d2647d7862537cd867a378a",
       "version_major": 2,
       "version_minor": 0
      },
      "text/plain": [
       "Validation: |          | 0/? [00:00<?, ?it/s]"
      ]
     },
     "metadata": {},
     "output_type": "display_data"
    },
    {
     "data": {
      "application/vnd.jupyter.widget-view+json": {
       "model_id": "ea9197b84c31473f924e5afe444e9038",
       "version_major": 2,
       "version_minor": 0
      },
      "text/plain": [
       "Validation: |          | 0/? [00:00<?, ?it/s]"
      ]
     },
     "metadata": {},
     "output_type": "display_data"
    },
    {
     "data": {
      "application/vnd.jupyter.widget-view+json": {
       "model_id": "923f911436ee49628ed810340f5caa9d",
       "version_major": 2,
       "version_minor": 0
      },
      "text/plain": [
       "Validation: |          | 0/? [00:00<?, ?it/s]"
      ]
     },
     "metadata": {},
     "output_type": "display_data"
    },
    {
     "data": {
      "application/vnd.jupyter.widget-view+json": {
       "model_id": "5470b8fbf4df4041b58cee7342df3c1c",
       "version_major": 2,
       "version_minor": 0
      },
      "text/plain": [
       "Validation: |          | 0/? [00:00<?, ?it/s]"
      ]
     },
     "metadata": {},
     "output_type": "display_data"
    },
    {
     "data": {
      "application/vnd.jupyter.widget-view+json": {
       "model_id": "ce743320bc2e403dbe2c907e41195b43",
       "version_major": 2,
       "version_minor": 0
      },
      "text/plain": [
       "Validation: |          | 0/? [00:00<?, ?it/s]"
      ]
     },
     "metadata": {},
     "output_type": "display_data"
    },
    {
     "data": {
      "application/vnd.jupyter.widget-view+json": {
       "model_id": "74ba8bca440848ffb12c056695ca30a9",
       "version_major": 2,
       "version_minor": 0
      },
      "text/plain": [
       "Validation: |          | 0/? [00:00<?, ?it/s]"
      ]
     },
     "metadata": {},
     "output_type": "display_data"
    },
    {
     "name": "stderr",
     "output_type": "stream",
     "text": [
      "`Trainer.fit` stopped: `max_epochs=30` reached.\n"
     ]
    }
   ],
   "source": [
    "gpt.train(\n",
    "    max_epochs=30,\n",
    ")"
   ]
  },
  {
   "cell_type": "code",
   "execution_count": 10,
   "metadata": {
    "execution": {
     "iopub.execute_input": "2024-02-03T00:00:30.653875Z",
     "iopub.status.busy": "2024-02-03T00:00:30.653211Z",
     "iopub.status.idle": "2024-02-03T00:00:37.489188Z",
     "shell.execute_reply": "2024-02-03T00:00:37.488583Z",
     "shell.execute_reply.started": "2024-02-03T00:00:30.653850Z"
    }
   },
   "outputs": [
    {
     "name": "stdout",
     "output_type": "stream",
     "text": [
      "\n",
      "\n",
      "Hence show, twice each other.\n",
      "\n",
      "KING RICHARD II:\n",
      "The worthy danger, my sovereign, I am wisThe senators of the market.\n",
      "Nay,\n",
      "Than'd.\n",
      "\n",
      "QUEENRY VI:\n",
      "Whilstmen, my lord?\n",
      "Come,\n",
      "Come thou be my own disgrace in arms once\n",
      "Must are put Henry's utter it be heir,\n",
      "The waste gave me leaveceund,\n",
      "Whose.\n",
      "\n",
      "The dost thou hast thou art thy dearchurch of thy lord,\n",
      "KING RICHARD III:\n",
      "The dost thou can afford\n",
      "Father, and move,\n",
      "O,\n",
      "Than, my tongue.\n",
      "Not your grace, and thy daughter gone to-kind both, in joy,\n",
      "KING RICHARD II:\n",
      "Ay, and he shall soon\n",
      "God save their tender-believing and afterENCE:\n",
      "As I were a bird with thy head.\n",
      "Flatter my cheeks, my lord.\n",
      "\n",
      "My thoughts, my kingdom!-- eye!\n",
      "\n",
      "Come,\n",
      "\n",
      "KING RICHARD II:\n",
      " shine heaven's face\n",
      "QUEENRY BOLINGHAM:\n",
      "\n",
      "WARWICK:\n",
      "OKE:\n",
      "Henry, doom of us twain a thousand hair it.\n",
      "I have given the adultous sighs, in my mind hath sworn his lands.\n",
      "\n",
      "Up as thou think on, mistrust;\n",
      "JOHN OF YORK:\n",
      "HENRY VI:\n",
      "So do it out of Norfolk:\n",
      "For once again.\n",
      "Which thou saw him they shall breed thy hand where he shall free to spite\n",
      "Ay,\n",
      "\n",
      "Henry, my name,\n",
      "HENRY VI:\n",
      "ares Richard,\n",
      "So high\n",
      "Nurse:\n",
      "That bear.\n",
      "Then vouchsafe to France?\n",
      "HENRY BOLINGBROKE:\n",
      "Each deep wherein told me up my sovereign's truen'd with all despair, ere Richard's lament of this frail.\n",
      "\n",
      "Five have IYe shall be buried.\n",
      "unexperienced, if thou hast marvellous tender hearts!\n",
      "The worst of thy dog'st thou shalt not kill'd and these witnesses.\n",
      "Was the realm;\n",
      "HENRY PERCY:\n",
      " bal,\n",
      "HENRY BOLINGBRO, good! my uncle eyes I'll great Clarence,\n",
      " person as thou shalt be so blunt to claim his bosom\n",
      "Lady:\n",
      "HEN SCROOP:\n",
      "\n",
      "\n"
     ]
    }
   ],
   "source": [
    "print(gpt.generate(prompt=\"If you tickle us do we not laugh?\", max_len=512))"
   ]
  },
  {
   "cell_type": "code",
   "execution_count": null,
   "metadata": {},
   "outputs": [],
   "source": []
  }
 ],
 "metadata": {
  "kernelspec": {
   "display_name": "Python 3 (ipykernel)",
   "language": "python",
   "name": "python3"
  },
  "language_info": {
   "codemirror_mode": {
    "name": "ipython",
    "version": 3
   },
   "file_extension": ".py",
   "mimetype": "text/x-python",
   "name": "python",
   "nbconvert_exporter": "python",
   "pygments_lexer": "ipython3",
   "version": "3.9.16"
  }
 },
 "nbformat": 4,
 "nbformat_minor": 4
}
